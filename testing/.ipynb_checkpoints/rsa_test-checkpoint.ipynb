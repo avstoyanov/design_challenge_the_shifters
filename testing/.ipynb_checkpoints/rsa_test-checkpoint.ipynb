{
 "cells": [
  {
   "cell_type": "code",
   "execution_count": 1,
   "metadata": {},
   "outputs": [
    {
     "data": {
      "text/plain": [
       "True"
      ]
     },
     "execution_count": 1,
     "metadata": {},
     "output_type": "execute_result"
    }
   ],
   "source": [
    "from Crypto.PublicKey import RSA\n",
    "\n",
    "def generate_export():\n",
    "    key = RSA.generate(2048)\n",
    "    with open(\"secret_build_output.txt\", 'w+b') as f:\n",
    "        f.write(key.export_key())\n",
    "    return key\n",
    "\n",
    "def import_key():\n",
    "    with open(\"secret_build_output.txt\", 'rb') as f:\n",
    "        key = RSA.import_key(f.read())\n",
    "    return key\n",
    "    \n",
    "\n",
    "generate_export() == import_key()"
   ]
  },
  {
   "cell_type": "code",
<<<<<<< HEAD
   "execution_count": 1,
   "metadata": {},
   "outputs": [
    {
     "ename": "NameError",
     "evalue": "name 'generate_export' is not defined",
     "output_type": "error",
     "traceback": [
      "\u001b[0;31m---------------------------------------------------------------------------\u001b[0m",
      "\u001b[0;31mNameError\u001b[0m                                 Traceback (most recent call last)",
      "\u001b[0;32m<ipython-input-1-789a1c5c38bd>\u001b[0m in \u001b[0;36m<module>\u001b[0;34m\u001b[0m\n\u001b[1;32m      4\u001b[0m \u001b[0;32mimport\u001b[0m \u001b[0mstruct\u001b[0m\u001b[0;34m\u001b[0m\u001b[0;34m\u001b[0m\u001b[0m\n\u001b[1;32m      5\u001b[0m \u001b[0;34m\u001b[0m\u001b[0m\n\u001b[0;32m----> 6\u001b[0;31m \u001b[0mgenerate_export\u001b[0m\u001b[0;34m(\u001b[0m\u001b[0;34m)\u001b[0m\u001b[0;34m\u001b[0m\u001b[0;34m\u001b[0m\u001b[0m\n\u001b[0m\u001b[1;32m      7\u001b[0m \u001b[0;34m\u001b[0m\u001b[0m\n\u001b[1;32m      8\u001b[0m \u001b[0mkey\u001b[0m \u001b[0;34m=\u001b[0m \u001b[0mimport_key\u001b[0m\u001b[0;34m(\u001b[0m\u001b[0;34m)\u001b[0m\u001b[0;34m\u001b[0m\u001b[0;34m\u001b[0m\u001b[0m\n",
      "\u001b[0;31mNameError\u001b[0m: name 'generate_export' is not defined"
=======
   "execution_count": 2,
   "metadata": {},
   "outputs": [
    {
     "name": "stdout",
     "output_type": "stream",
     "text": [
      "65537\n",
      "20770374289855892154274938796074370689220123345118675245191062105983000184426710697049767698551646774047480099292544182624624294522204311921863643484056992112330416983668958579456166831007938750480066421340371748720296623321881012176400684621324308944407564007241300514173843468279643740146968251361487334836383939804259902138663986856167827151279811260349504405130587013248847059415712098723666175647318012195146133650193944142789664998371515614318773658676718639854052080407260891734966050204736553032533617190137629032653629034629127684148736440427810810653509030278300016452528349224313655016610000069497593558191\n",
      "65537\n",
      "20770374289855892154274938796074370689220123345118675245191062105983000184426710697049767698551646774047480099292544182624624294522204311921863643484056992112330416983668958579456166831007938750480066421340371748720296623321881012176400684621324308944407564007241300514173843468279643740146968251361487334836383939804259902138663986856167827151279811260349504405130587013248847059415712098723666175647318012195146133650193944142789664998371515614318773658676718639854052080407260891734966050204736553032533617190137629032653629034629127684148736440427810810653509030278300016452528349224313655016610000069497593558191\n"
>>>>>>> 9e31262afc6482ecddbbe639b4a57298cc63f796
     ]
    }
   ],
   "source": [
    "from Crypto.PublicKey import RSA\n",
    "from Crypto.Signature import pkcs1_15\n",
    "from Crypto.Hash import SHA256\n",
    "import struct\n",
    "\n",
    "generate_export()\n",
    "\n",
    "key = import_key()\n",
    "\n",
    "data = b'this is a test string to be hashed. compress me!\\0'\n",
    "\n",
    "sha = SHA256.new(data)\n",
    "\n",
    "signed_data = pkcs1_15.new(key).sign(sha)\n",
    "\n",
    "with open(\"hash_file.bin\", 'w+b') as f:\n",
    "    f.write(signed_data)\n",
    "\n",
    "with open(\"public_key_file.bin\", \"w+b\") as pk:\n",
    "    pk.write(struct.pack(\">Q\", key.publickey().e))\n",
    "    n = key.publickey().n\n",
    "    for i in range(2048, 0, -8):\n",
    "        pk.write(struct.pack(\">B\", n >> (i - 8)))\n",
    "        n = n % 2 ** (i - 8)\n",
    "        \n",
    "print(key.publickey().e)\n",
    "print(key.publickey().n)\n",
    "\n",
    "i = 0\n",
    "with open(\"public_key_file.bin\", \"rb\") as pk:\n",
    "    print(struct.unpack(\">Q\", pk.read(8))[0])\n",
    "    for k in range(256):\n",
    "        i = i << 8\n",
    "        i += struct.unpack(\">B\", pk.read(1))[0]\n",
    "print(i)\n",
    "    "
   ]
  },
  {
   "cell_type": "code",
   "execution_count": 3,
   "metadata": {},
   "outputs": [
    {
     "name": "stdout",
     "output_type": "stream",
     "text": [
      "b'\\x00\\x00\\x00\\x00\\x00\\x01\\x00\\x01'\n"
     ]
    }
   ],
   "source": [
    "print(struct.pack(\">Q\", key.publickey().e))"
   ]
  },
  {
   "cell_type": "code",
   "execution_count": 4,
   "metadata": {},
   "outputs": [
    {
     "name": "stdout",
     "output_type": "stream",
     "text": [
      "b\"\\x1bq\\xd7 \\xe8a(\\x90\\xf2`^\\xb8\\x08[\\xa6\\x12(\\x98_\\r\\xfdC@\\xe4\\xbcznh\\xb7-u\\x13\\xfe\\xe0x,\\x8b\\xa4'\\xed9\\x0ec\\xc7.\\x00iu\\xb0\\xf2\\xe4\\x13\\xa7\\x02\\n\\x91\\xfe\\x17m\\xf0\\xc6\\xed\\xdd\\xed\\x95\\xe97\\xf5\\xf5\\x8e\\x86&\\xf1\\x8f;B\\xacU\\x9d\\x8f\\x1az\\xd5Mv\\xad\\x8b_\\xf6\\x024wf\\xd8\\xf27\\x04`<\\xb0\\xdb\\x99\\x92\\xc2\\xdc81\\xa3Ce?\\x89+\\xe6\\x93\\x0b\\x1ch\\xbbK\\x87\\xbeC\\xf03\\x93B\\xf7\\xbfS\\x05\\xd5\\xa1)\\x95t\\x13|\\xd6>\\x95q\\x12\\x0bO\\xd2$\\xba'8\\xd1\\xf7j#\\xb0\\x7f`\\x81;\\x9c.\\xd7\\xd7}6\\xac\\x1b=\\x7f|\\xb9\\xab\\x91\\x14\\xab\\xcd\\xc1\\xe2\\x92\\xec\\x94\\x177\\xca'\\x85=v\\xa7z\\x8c\\x00=\\x8b\\x1e_\\xbcK\\xe6\\xfb.k\\x88i\\x01pA\\xdeK\\xd0%$\\xbc}\\xf77\\x9bC\\xc2\\x12\\xaa\\x1am\\x83y4\\x94\\xe0\\x10D\\xd7\\xa3\\x16/\\xb8\\xc2\\xd0\\xbd\\xa32\\xe3%\\xb2\\x1a\\xedn^`D\\x85k\\x8d\\x03P\\x94&\"\n"
     ]
    }
   ],
   "source": [
    "with open(\"hash_file.bin\", 'rb') as f:\n",
    "    print(f.read())"
   ]
  },
  {
   "cell_type": "code",
   "execution_count": 5,
   "metadata": {},
   "outputs": [
    {
     "name": "stdout",
     "output_type": "stream",
     "text": [
      "c5652c0e99913bb9c2377795bb1eccaa579b5be58fd00f439a09763ab74660bb\n"
     ]
    }
   ],
   "source": [
    "print(sha.hexdigest())"
   ]
  },
  {
   "cell_type": "code",
   "execution_count": 6,
   "metadata": {},
   "outputs": [
    {
     "name": "stdout",
     "output_type": "stream",
     "text": [
      "0xa4887674d7448ce4af5fd05d15d5f1ec82f09051c906a65c647a702978e12eb6c46beb13e4d30ec6fbd7711d7155c582cbd257284de4a15b3111f0406a6f433bcf3aa408a53c6232b7c08377a52f85095e25bb4b9e1aa7c834f41c770b58e729e18532158cdc08e4bcb82a6f64dc0efa5d4774e2504a2501aa39b141328f39937b19ab7f7cc0e6989103c0eae80d7248ada077f40ab927684096f499f1bc86343290ba910e3374beac1c4dfc10577311e92ca3c9cdf515bfa489a19e0a86529abf19f384f03a76acb5f6363af2ac87f141192a5fab4030234ebdc16b50fc6808e488f6e4a576bd0f4724d130e6fcfd0f7ab0af02dc1a9892721f66b888a874af\n"
     ]
    }
   ],
   "source": [
    "print(hex(key.publickey().n))"
   ]
  },
  {
   "cell_type": "code",
   "execution_count": 7,
   "metadata": {},
   "outputs": [
    {
     "name": "stdout",
     "output_type": "stream",
     "text": [
      "None\n"
     ]
    }
   ],
   "source": [
    "verification_engine = pkcs1_15.new(key.publickey())\n",
    "with open(\"hash_file.bin\", 'rb') as f:\n",
    "    print(verification_engine.verify(SHA256.new(data), f.read()))"
   ]
  },
  {
   "cell_type": "code",
   "execution_count": 7,
   "metadata": {},
   "outputs": [
    {
     "name": "stdout",
     "output_type": "stream",
     "text": [
      "65537\n",
      "<class 'int'>\n"
     ]
    }
   ],
   "source": [
    "from Crypto.PublicKey import RSA\n",
    "from Crypto.Signature import pkcs1_15\n",
    "from Crypto.Hash import SHA256\n",
    "import struct\n",
    "\n",
    "key = RSA.generate(2048)\n",
    "        \n",
    "print(key.publickey().e)\n",
    "print(type(key.publickey().n))\n"
   ]
  },
  {
   "cell_type": "code",
   "execution_count": null,
   "metadata": {},
   "outputs": [],
   "source": []
  }
 ],
 "metadata": {
  "kernelspec": {
   "display_name": "Python 3",
   "language": "python",
   "name": "python3"
  },
  "language_info": {
   "codemirror_mode": {
    "name": "ipython",
    "version": 3
   },
   "file_extension": ".py",
   "mimetype": "text/x-python",
   "name": "python",
   "nbconvert_exporter": "python",
   "pygments_lexer": "ipython3",
   "version": "3.7.6"
  }
 },
 "nbformat": 4,
 "nbformat_minor": 4
}
