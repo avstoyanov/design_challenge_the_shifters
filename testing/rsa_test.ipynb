{
 "cells": [
  {
   "cell_type": "code",
   "execution_count": 14,
   "metadata": {},
   "outputs": [
    {
     "data": {
      "text/plain": [
       "True"
      ]
     },
     "execution_count": 14,
     "metadata": {},
     "output_type": "execute_result"
    }
   ],
   "source": [
    "from Crypto.PublicKey import RSA\n",
    "\n",
    "def generate_export():\n",
    "    key = RSA.generate(2048)\n",
    "    with open(\"secret_build_output.txt\", 'w+b') as f:\n",
    "        f.write(key.export_key())\n",
    "    return key\n",
    "\n",
    "def import_key():\n",
    "    with open(\"secret_build_output.txt\", 'rb') as f:\n",
    "        key = RSA.import_key(f.read())\n",
    "    return key\n",
    "    \n",
    "\n",
    "generate_export() == import_key()"
   ]
  },
  {
   "cell_type": "code",
   "execution_count": 1,
   "metadata": {},
   "outputs": [
    {
     "ename": "NameError",
     "evalue": "name 'generate_export' is not defined",
     "output_type": "error",
     "traceback": [
      "\u001b[0;31m---------------------------------------------------------------------------\u001b[0m",
      "\u001b[0;31mNameError\u001b[0m                                 Traceback (most recent call last)",
      "\u001b[0;32m<ipython-input-1-789a1c5c38bd>\u001b[0m in \u001b[0;36m<module>\u001b[0;34m\u001b[0m\n\u001b[1;32m      4\u001b[0m \u001b[0;32mimport\u001b[0m \u001b[0mstruct\u001b[0m\u001b[0;34m\u001b[0m\u001b[0;34m\u001b[0m\u001b[0m\n\u001b[1;32m      5\u001b[0m \u001b[0;34m\u001b[0m\u001b[0m\n\u001b[0;32m----> 6\u001b[0;31m \u001b[0mgenerate_export\u001b[0m\u001b[0;34m(\u001b[0m\u001b[0;34m)\u001b[0m\u001b[0;34m\u001b[0m\u001b[0;34m\u001b[0m\u001b[0m\n\u001b[0m\u001b[1;32m      7\u001b[0m \u001b[0;34m\u001b[0m\u001b[0m\n\u001b[1;32m      8\u001b[0m \u001b[0mkey\u001b[0m \u001b[0;34m=\u001b[0m \u001b[0mimport_key\u001b[0m\u001b[0;34m(\u001b[0m\u001b[0;34m)\u001b[0m\u001b[0;34m\u001b[0m\u001b[0;34m\u001b[0m\u001b[0m\n",
      "\u001b[0;31mNameError\u001b[0m: name 'generate_export' is not defined"
     ]
    }
   ],
   "source": [
    "from Crypto.PublicKey import RSA\n",
    "from Crypto.Signature import pkcs1_15\n",
    "from Crypto.Hash import SHA256\n",
    "import struct\n",
    "\n",
    "generate_export()\n",
    "\n",
    "key = import_key()\n",
    "\n",
    "data = b'this is a test string to be hashed. compress me!\\0'\n",
    "\n",
    "sha = SHA256.new(data)\n",
    "\n",
    "signed_data = pkcs1_15.new(key).sign(sha)\n",
    "\n",
    "with open(\"hash_file.bin\", 'w+b') as f:\n",
    "    f.write(signed_data)\n",
    "\n",
    "with open(\"public_key_file.bin\", \"w+b\") as pk:\n",
    "    pk.write(struct.pack(\">Q\", key.publickey().e))\n",
    "    n = key.publickey().n\n",
    "    for i in range(2048, 0, -8):\n",
    "        pk.write(struct.pack(\">B\", n >> (i - 8)))\n",
    "        n = n % 2 ** (i - 8)\n",
    "        \n",
    "print(key.publickey().e)\n",
    "print(key.publickey().n)\n",
    "\n",
    "i = 0\n",
    "with open(\"public_key_file.bin\", \"rb\") as pk:\n",
    "    print(struct.unpack(\">Q\", pk.read(8))[0])\n",
    "    for k in range(256):\n",
    "        i = i << 8\n",
    "        i += struct.unpack(\">B\", pk.read(1))[0]\n",
    "print(i)\n",
    "    "
   ]
  },
  {
   "cell_type": "code",
   "execution_count": 16,
   "metadata": {},
   "outputs": [
    {
     "name": "stdout",
     "output_type": "stream",
     "text": [
      "b'\\x00\\x00\\x00\\x00\\x00\\x01\\x00\\x01'\n"
     ]
    }
   ],
   "source": [
    "print(struct.pack(\">Q\", key.publickey().e))"
   ]
  },
  {
   "cell_type": "code",
   "execution_count": 17,
   "metadata": {},
   "outputs": [
    {
     "name": "stdout",
     "output_type": "stream",
     "text": [
      "b'|\\x87\\xba4\\x1c\\xb8\\xab\\xc9\\xef\"*\\xeb\\xbbH\\x12)\\x8e\\xd27\\xef\\xa6\\x7f;\\x1f5\\xf5\\x80\\x04\\xbc\\x07aX\\xf7f\\xc0\\xa6\\xdc#\\xe0}\\xbfK\\xad;\\xcd\\x82F\\x0c\\x1d\\xd7(\\xd6\\xf3`\\xfb\\x15\\xf6G\\x98+dI$\\x17\\xbe\\t\\xee\\xebH9\\x0f\\xfd\\xa7xju\\xe7\\x91\\x8d\\x95\\xf6\\xfb\\xd8\\x92\\x0f\\xe1)TD\\xcd\\xf3\\xe39i\\x9a3`\\'v\\xfd\\x91\\xcf\\x85\\xee&\\x84\\r\\x0b \\xab\\x0e\\xa7)CL\\xd1\\x03\\x01\\xb8x\\x07o\\x87#\\xca\\xde\\x1d\\xf3nY\\xefq&=\\xb1\\xb9\\xeb39\\xb3o<\\x01\\x0f\\xb9\\xbb\\xe1\\x18;\\x00\\xed\\xcc\\xe1P\\x9b:\\xd1a\\xa6\\x083\\x10\\x84\\xd6t\\xd5\\xcd~\\xa3\\xbb\\xaa\\xc3~\\xdeGRI \\xf0y{Q\\xaa\\xd4\\xbcAm{\\xf3\\xbai\\xc4\\xb5\\x98\"\\x13:\\xd0\\xc1\\xc3:\\xb4\\xb9G\\xcc\\xa91r*6\\x85\\xe3\\xc3A82+\\xd5\\x8d\\xf2\\xbe;\\xb3\\xd6\\x9a\\xacB\\x1e\\x1f\\xca\\xffW\\xa9\\xba\\xab\"~\\x1f\\xbe\\x10\\xcb\\xb8\\xdef\\xea\\x0eW\\xc2m\\xb2\\xd1\\xa8\\xdez\\xcc\\xb7'\n"
     ]
    }
   ],
   "source": [
    "with open(\"hash_file.bin\", 'rb') as f:\n",
    "    print(f.read())"
   ]
  },
  {
   "cell_type": "code",
   "execution_count": 18,
   "metadata": {},
   "outputs": [
    {
     "name": "stdout",
     "output_type": "stream",
     "text": [
      "c5652c0e99913bb9c2377795bb1eccaa579b5be58fd00f439a09763ab74660bb\n"
     ]
    }
   ],
   "source": [
    "print(sha.hexdigest())"
   ]
  },
  {
   "cell_type": "code",
   "execution_count": 24,
   "metadata": {},
   "outputs": [
    {
     "name": "stdout",
     "output_type": "stream",
     "text": [
      "0xbfd850f75a08b3a2b88885b7627cf672fc82ac6837d2784df20553b04226fbe1de37cec81b60b0da354ac3b928b6a07b6937316922a9c0e39906cf9628f17882c86acde17fcb311a1baa6024fbd325f64cbf178f0164c8427a67e4f06c3d20179238615690599427de9edc92c5f8c28c6700bd04a994d8da6d79d92ba413ce7372c2f1f6f3d32019021bd8d2dea62b0e9ba478020116851307a8eff7695e895be4cb3fcd3630f68bb9c1ccb40f85e0059640e457bb4b637bc81aa8fcebef39bc200af06d9752efdad75f3b40c09f65316e611c50135ff3cb3a86d9e7b9f9ea069899be8baf8b88cfd952524acc5560d603e67e564f7629581a17ac2e95d8591b\n"
     ]
    }
   ],
   "source": [
    "print(hex(key.publickey().n))"
   ]
  },
  {
   "cell_type": "code",
   "execution_count": 20,
   "metadata": {},
   "outputs": [
    {
     "name": "stdout",
     "output_type": "stream",
     "text": [
      "None\n"
     ]
    }
   ],
   "source": [
    "verification_engine = pkcs1_15.new(key.publickey())\n",
    "with open(\"hash_file.bin\", 'rb') as f:\n",
    "    print(verification_engine.verify(SHA256.new(data), f.read()))"
   ]
  },
  {
   "cell_type": "code",
   "execution_count": 7,
   "metadata": {},
   "outputs": [
    {
     "name": "stdout",
     "output_type": "stream",
     "text": [
      "65537\n",
      "<class 'int'>\n"
     ]
    }
   ],
   "source": [
    "from Crypto.PublicKey import RSA\n",
    "from Crypto.Signature import pkcs1_15\n",
    "from Crypto.Hash import SHA256\n",
    "import struct\n",
    "\n",
    "key = RSA.generate(2048)\n",
    "        \n",
    "print(key.publickey().e)\n",
    "print(type(key.publickey().n))\n"
   ]
  },
  {
   "cell_type": "code",
   "execution_count": null,
   "metadata": {},
   "outputs": [],
   "source": []
  }
 ],
 "metadata": {
  "kernelspec": {
   "display_name": "Python 3",
   "language": "python",
   "name": "python3"
  },
  "language_info": {
   "codemirror_mode": {
    "name": "ipython",
    "version": 3
   },
   "file_extension": ".py",
   "mimetype": "text/x-python",
   "name": "python",
   "nbconvert_exporter": "python",
   "pygments_lexer": "ipython3",
   "version": "3.7.6"
  }
 },
 "nbformat": 4,
 "nbformat_minor": 4
}
