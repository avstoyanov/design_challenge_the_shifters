{
 "cells": [
  {
   "cell_type": "code",
   "execution_count": 22,
   "metadata": {},
   "outputs": [
    {
     "data": {
      "text/plain": [
       "True"
      ]
     },
     "execution_count": 22,
     "metadata": {},
     "output_type": "execute_result"
    }
   ],
   "source": [
    "from Crypto.PublicKey import RSA\n",
    "\n",
    "def generate_export():\n",
    "    key = RSA.generate(2048)\n",
    "    with open(\"secret_build_output.txt\", 'w+b') as f:\n",
    "        f.write(key.export_key())\n",
    "    return key\n",
    "\n",
    "def import_key():\n",
    "    with open(\"secret_build_output.txt\", 'rb') as f:\n",
    "        key = RSA.import_key(f.read())\n",
    "    return key\n",
    "    \n",
    "\n",
    "generate_export() == import_key()"
   ]
  },
  {
   "cell_type": "code",
   "execution_count": 27,
   "metadata": {},
   "outputs": [
    {
     "name": "stdout",
     "output_type": "stream",
     "text": [
      "65537\n",
      "19885794453332624474628101780539914804087575278889968955017419925725317451815298476390373113618479435662445195549200728146073073233968520439854056903765242731162814596394921551056914331550489543776433462230845443499370899612687584224661846799557356037066820572498091632013916327288652960147982682040408135994030785157837889250360767897465489783444447395680499955189929447381049781667589786177841187216928777453505437235139699292238119707856493966906551434765360969424036496798289615909961580580838023452502531221407678928302998254007280577088147364221953612576007697191617609505570065275813413185497973999214055869781\n",
      "65537\n",
      "19885794453332624474628101780539914804087575278889968955017419925725317451815298476390373113618479435662445195549200728146073073233968520439854056903765242731162814596394921551056914331550489543776433462230845443499370899612687584224661846799557356037066820572498091632013916327288652960147982682040408135994030785157837889250360767897465489783444447395680499955189929447381049781667589786177841187216928777453505437235139699292238119707856493966906551434765360969424036496798289615909961580580838023452502531221407678928302998254007280577088147364221953612576007697191617609505570065275813413185497973999214055869781\n"
     ]
    }
   ],
   "source": [
    "from Crypto.PublicKey import RSA\n",
    "from Crypto.Signature import pkcs1_15\n",
    "from Crypto.Hash import SHA256\n",
    "import struct\n",
    "\n",
    "generate_export()\n",
    "\n",
    "key = import_key()\n",
    "\n",
    "data = b'this is a test string to be hashed. compress me!'\n",
    "\n",
    "sha = SHA256.new(data)\n",
    "\n",
    "signed_data = pkcs1_15.new(key).sign(sha)\n",
    "\n",
    "with open(\"hash_file.bin\", 'w+b') as f:\n",
    "    f.write(signed_data)\n",
    "\n",
    "with open(\"public_key_file.bin\", \"w+b\") as pk:\n",
    "    pk.write(struct.pack(\">Q\", key.publickey().e))\n",
    "    n = key.publickey().n\n",
    "    for i in range(2048, 0, -8):\n",
    "        pk.write(struct.pack(\">B\", n >> (i - 8)))\n",
    "        n = n % 2 ** (i - 8)\n",
    "        \n",
    "print(key.publickey().e)\n",
    "print(key.publickey().n)\n",
    "\n",
    "i = 0\n",
    "with open(\"public_key_file.bin\", \"rb\") as pk:\n",
    "    print(struct.unpack(\">Q\", pk.read(8))[0])\n",
    "    for k in range(256):\n",
    "        i = i << 8\n",
    "        i += struct.unpack(\">B\", pk.read(1))[0]\n",
    "print(i)\n",
    "    "
   ]
  },
  {
   "cell_type": "code",
   "execution_count": 29,
   "metadata": {},
   "outputs": [
    {
     "name": "stdout",
     "output_type": "stream",
     "text": [
      "b'\\x00\\x00\\x00\\x00\\x00\\x01\\x00\\x01'\n"
     ]
    }
   ],
   "source": [
    "print(struct.pack(\">Q\", key.publickey().e))"
   ]
  },
  {
   "cell_type": "code",
   "execution_count": null,
   "metadata": {},
   "outputs": [],
   "source": []
  }
 ],
 "metadata": {
  "kernelspec": {
   "display_name": "Python 3",
   "language": "python",
   "name": "python3"
  },
  "language_info": {
   "codemirror_mode": {
    "name": "ipython",
    "version": 3
   },
   "file_extension": ".py",
   "mimetype": "text/x-python",
   "name": "python",
   "nbconvert_exporter": "python",
   "pygments_lexer": "ipython3",
   "version": "3.7.6"
  }
 },
 "nbformat": 4,
 "nbformat_minor": 4
}
