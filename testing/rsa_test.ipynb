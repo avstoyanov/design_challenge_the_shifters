{
 "cells": [
  {
   "cell_type": "code",
   "execution_count": 20,
   "metadata": {},
   "outputs": [
    {
     "data": {
      "text/plain": [
       "True"
      ]
     },
     "execution_count": 20,
     "metadata": {},
     "output_type": "execute_result"
    }
   ],
   "source": [
    "from Crypto.PublicKey import RSA\n",
    "\n",
    "def generate_export():\n",
    "    key = RSA.generate(2048)\n",
    "    with open(\"secret_build_output.txt\", 'w+b') as f:\n",
    "        f.write(key.export_key())\n",
    "    return key\n",
    "\n",
    "def import_key():\n",
    "    with open(\"secret_build_output.txt\", 'rb') as f:\n",
    "        key = RSA.import_key(f.read())\n",
    "    return key\n",
    "    \n",
    "\n",
    "generate_export() == import_key()"
   ]
  },
  {
   "cell_type": "code",
   "execution_count": null,
   "metadata": {},
   "outputs": [],
   "source": []
  }
 ],
 "metadata": {
  "kernelspec": {
   "display_name": "Python 3",
   "language": "python",
   "name": "python3"
  },
  "language_info": {
   "codemirror_mode": {
    "name": "ipython",
    "version": 3
   },
   "file_extension": ".py",
   "mimetype": "text/x-python",
   "name": "python",
   "nbconvert_exporter": "python",
   "pygments_lexer": "ipython3",
   "version": "3.7.6"
  }
 },
 "nbformat": 4,
 "nbformat_minor": 4
}
